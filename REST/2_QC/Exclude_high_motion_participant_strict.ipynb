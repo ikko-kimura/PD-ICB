{
 "cells": [
  {
   "cell_type": "code",
   "execution_count": 3,
   "id": "a6d4d3a4",
   "metadata": {},
   "outputs": [
    {
     "name": "stdout",
     "output_type": "stream",
     "text": [
      "subj-93 was flagged because of high mean FD\n",
      "subj-94 was flagged because of high mean FD\n",
      "subj-95 was flagged because of high mean FD\n",
      "subj-104 was flagged because of high mean FD\n",
      "subj-107 was flagged because of high mean FD\n",
      "subj-113 was flagged because of high mean FD\n",
      "subj-119 was flagged because of high mean FD\n",
      "subj-119 was flagged because of high rate of suprathreshold FD\n",
      "subj-146 was flagged because of high mean FD\n",
      "subj-151 was flagged because of high mean FD\n",
      "subj-160 was flagged because of high mean FD\n",
      "subj-164 was flagged because of high mean FD\n",
      "subj-164 was flagged because of high max FD\n",
      "subj-167 was flagged because of high mean FD\n",
      "subj-174 was flagged because of high mean FD\n",
      "subj-174 was flagged because of high rate of suprathreshold FD\n",
      "subj-185 was flagged because of high mean FD\n",
      "subj-186 was flagged because of high mean FD\n",
      "subj-186 was flagged because of high max FD\n",
      "subj-186 was flagged because of high rate of suprathreshold FD\n",
      "subj-222 was flagged because of high mean FD\n",
      "subj-244 was flagged because of high mean FD\n",
      "subj-250 was flagged because of high mean FD\n",
      "subj-277 was flagged because of high mean FD\n",
      "subj-292 was flagged because of high mean FD\n",
      "subj-306 was flagged because of high mean FD\n",
      "subj-317 was flagged because of high mean FD\n",
      "subj-317 was flagged because of high rate of suprathreshold FD\n",
      "subj-318 was flagged because of high mean FD\n",
      "subj-318 was flagged because of high rate of suprathreshold FD\n",
      "subj-321 was flagged because of high mean FD\n",
      "subj-337 was flagged because of high mean FD\n",
      "subj-341 was flagged because of high mean FD\n",
      "subj-341 was flagged because of high rate of suprathreshold FD\n",
      "subj-345 was flagged because of high mean FD\n",
      "subj-345 was flagged because of high rate of suprathreshold FD\n",
      "subj-349 was flagged because of high mean FD\n",
      "subj-350 was flagged because of high mean FD\n",
      "subj-353 was flagged because of high mean FD\n",
      "subj-353 was flagged because of high rate of suprathreshold FD\n",
      "subj-406 was flagged because of high mean FD\n",
      "subj-411 was flagged because of high mean FD\n",
      "subj-444 was flagged because of high mean FD\n",
      "subj-444 was flagged because of high max FD\n",
      "subj-444 was flagged because of high rate of suprathreshold FD\n",
      "subj-449 was flagged because of high mean FD\n",
      "subj-449 was flagged because of high rate of suprathreshold FD\n",
      "subj-480 was flagged because of high mean FD\n",
      "subj-480 was flagged because of high rate of suprathreshold FD\n",
      "subj-488 was flagged because of high mean FD\n",
      "subj-493 was flagged because of high mean FD\n",
      "subj-534 was flagged because of high mean FD\n",
      "subj-597 was flagged because of high mean FD\n",
      "subj-607 was flagged because of high mean FD\n",
      "subj-627 was flagged because of high mean FD\n",
      "subj-627 was flagged because of high rate of suprathreshold FD\n",
      "subj-661 was flagged because of high mean FD\n"
     ]
    }
   ],
   "source": [
    "# exclude participant if < 4min of uncensored data\n",
    "# and create covariates for mean flamewise-displacement\n",
    "\n",
    "# Ikko Kimura, Osaka University Hospital, 2021/8/20\n",
    "# Ikko Kimura, Osaka University Hospital, 2021/8/24 added to output the number of uncensored data\n",
    "import pandas as pd\n",
    "from matplotlib import pyplot as plt\n",
    "import numpy as np\n",
    "WD=\"/project/amano-g/kimura/PDRegistry/\"\n",
    "\n",
    "#f=open('subj_list_all_2.txt','r')\n",
    "#subj_list=f.read()\n",
    "#f.close()\n",
    "subj_list=np.loadtxt(\"subj_list_all_2.txt\",dtype=\"str\")\n",
    "#print(data)\n",
    "\n",
    "flag=np.zeros(len(subj_list))\n",
    "mFD=np.zeros(len(subj_list))\n",
    "num_unc=np.zeros(len(subj_list))\n",
    "for i in range(len(subj_list)):\n",
    "    #subj=\"093\"\n",
    "    subj=subj_list[i]\n",
    "    #print(subj)\n",
    "    if int(subj)<100:\n",
    "        fname=WD+\"output/fmriprep/sub-0\"+subj+\"/func/sub-0\"+subj+\"_task-rest_desc-confounds_timeseries.tsv\"\n",
    "    else:\n",
    "        fname=WD+\"output/fmriprep/sub-\"+subj+\"/func/sub-\"+subj+\"_task-rest_desc-confounds_timeseries.tsv\"\n",
    "    nuisance=pd.read_table(fname)\n",
    "    nuisance=nuisance[4::]\n",
    "    df=nuisance[(nuisance[\"framewise_displacement\"]>0.5)].shape\n",
    "    mFD=np.mean(nuisance[\"framewise_displacement\"])\n",
    "    max_mFD=np.max(nuisance[\"framewise_displacement\"])\n",
    "    \n",
    "    if  mFD>0.2:\n",
    "        print(\"subj-\"+subj+\" was flagged because of high mean FD\")\n",
    "        flag[i]=1  \n",
    "    if  max_mFD>5:\n",
    "        print(\"subj-\"+subj+\" was flagged because of high max FD\")\n",
    "        flag[i]=1  \n",
    "    if df[0] >47:\n",
    "        print(\"subj-\"+subj+\" was flagged because of high rate of suprathreshold FD\")\n",
    "        flag[i]=1"
   ]
  },
  {
   "cell_type": "code",
   "execution_count": 7,
   "id": "d022a126",
   "metadata": {},
   "outputs": [
    {
     "data": {
      "text/plain": [
       "42.0"
      ]
     },
     "execution_count": 7,
     "metadata": {},
     "output_type": "execute_result"
    }
   ],
   "source": [
    "#np.savetxt(\"flag_subj.txt\",subj_list)\n",
    "np.savetxt(\"flag_flag.txt\",flag)\n",
    "np.sum(flag)"
   ]
  },
  {
   "cell_type": "code",
   "execution_count": null,
   "id": "d91ae53e",
   "metadata": {},
   "outputs": [],
   "source": []
  }
 ],
 "metadata": {
  "kernelspec": {
   "display_name": "Python 3",
   "language": "python",
   "name": "python3"
  },
  "language_info": {
   "codemirror_mode": {
    "name": "ipython",
    "version": 3
   },
   "file_extension": ".py",
   "mimetype": "text/x-python",
   "name": "python",
   "nbconvert_exporter": "python",
   "pygments_lexer": "ipython3",
   "version": "3.8.8"
  }
 },
 "nbformat": 4,
 "nbformat_minor": 5
}
